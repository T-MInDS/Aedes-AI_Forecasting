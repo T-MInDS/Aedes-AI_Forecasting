{
 "cells": [
  {
   "attachments": {},
   "cell_type": "markdown",
   "metadata": {},
   "source": [
    "## Generate representative forecasts"
   ]
  },
  {
   "attachments": {},
   "cell_type": "markdown",
   "metadata": {},
   "source": [
    "This notebook produces a figure of forecasts representative of high and low skill for local weather and airport weather. Results are stored in `output/misc_figures/`"
   ]
  },
  {
   "attachments": {},
   "cell_type": "markdown",
   "metadata": {},
   "source": [
    "Start by importing necessary libraries and turning off warnings"
   ]
  },
  {
   "cell_type": "code",
   "execution_count": null,
   "metadata": {},
   "outputs": [],
   "source": [
    "import os, sys, importlib, json\n",
    "\n",
    "import matplotlib.pyplot as plt\n",
    "import matplotlib.gridspec as gridspec\n",
    "import matplotlib.dates as mdates\n",
    "\n",
    "from scipy.stats import nbinom as nbinom\n",
    "import pandas as pd\n",
    "import numpy as np\n",
    "\n",
    "import itertools\n",
    "sys.path.append( os.path.abspath(os.path.join('..')) )\n",
    "import utils.forecast as forecast\n",
    "import utils.plotting_functions as pf\n",
    "import utils.utils as utils\n",
    "\n",
    "import warnings\n",
    "warnings.filterwarnings('ignore')\n",
    "\n",
    "# Opening config file\n",
    "f = open('../fpaths_config.json')\n",
    "paths = json.load(f)\n",
    "\n",
    "raw_data_path = paths['raw_data']\n",
    "smoothed_data_path = paths['smoothed_data']\n",
    "misc_figures_path = paths['misc_figures_path']\n"
   ]
  },
  {
   "cell_type": "markdown",
   "metadata": {},
   "source": [
    "## Still shots all in one"
   ]
  },
  {
   "cell_type": "markdown",
   "metadata": {},
   "source": [
    "Next we again want to plot still shots, but have locations as rows, and columns being 25th percentile and 75th percentile for local forecasts and 75th percentile for airport forecast"
   ]
  },
  {
   "cell_type": "code",
   "execution_count": null,
   "metadata": {},
   "outputs": [],
   "source": [
    "##Try it with a broken axis\n",
    "importlib.reload(forecast)\n",
    "importlib.reload(pf)\n",
    "\n",
    "#Obtain these results from calculate_coverages.ipynb\n",
    "#Q1 and Q3 (in order) quantile indices for smoothed, local weather forecasts\n",
    "#['Arboleda', 'site', False] 57 95\n",
    "#['Playa', 'site', False] 123 196\n",
    "#['La_Margarita', 'site', False] 62 196\n",
    "#['Villodas', 'site', False] 12 193\n",
    "\n",
    "#First and third quantile indices for smoothed, airport weather forecasts\n",
    "#['Arboleda', 'airport', False] 71 171\n",
    "#['Playa', 'airport', False] 69 196\n",
    "#['La_Margarita', 'airport', False] 113 24\n",
    "#['Villodas', 'airport', False] 31 190\n",
    "\n",
    "# Format is site = local Q1, local Q3, airport Q1, airport Q3\n",
    "dict_idxs = dict(arboleda = (57, 95, 71, 171),\n",
    "                 playa = (123, 196, 69, 196),\n",
    "                 la_margarita = (62, 196, 113, 24),\n",
    "                 villodas = (12, 193, 31, 190))\n",
    "\n",
    "sites = ['Arboleda', 'Playa', 'La_Margarita', 'Villodas']\n",
    "\n",
    "#Avg. mosquitoes\n",
    "avg_mosquitos = [8.718, 12.786, 1.488, 1.624]\n",
    "#Controls the positioning of the site labels\n",
    "rtos = [0.22, 0.32, 0.18, 0.45]\n",
    "\n",
    "scaler_win = 13\n",
    "forecast_win = 52\n",
    "\n",
    "fig = plt.figure(figsize=(14,8))\n",
    "\n",
    "gs_frame = fig.add_gridspec(4,1, figure=fig)\n",
    "\n",
    "trap_col, nn_col = 'tab:orange', 'tab:blue'\n",
    "#set alpha value for scaler points\n",
    "scaler_alpha=0.35\n",
    "\n",
    "#First add Arboleda and Playa plots\n",
    "for row_idx in [0]:\n",
    "    gs = gridspec.GridSpecFromSubplotSpec(1,4, subplot_spec=gs_frame[row_idx])\n",
    "    site = sites[row_idx]\n",
    "    idxs = dict_idxs[site.lower()]\n",
    "    rto = rtos[row_idx]\n",
    "    avg_mos = avg_mosquitos[row_idx]\n",
    "    for col_idx, idx in zip(range(0,4), idxs):\n",
    "        if col_idx > 1:\n",
    "            airport_flag = True\n",
    "        else:\n",
    "            airport_flag = False\n",
    "        x_forecast, u_forecast_quant, l_forecast_quant, x_scale, nn_scale, nn_forecast, ref, trap_lo_err, trap_up_err, date_list = pf.still_shot(airport_flag, site, idx, scaler_win, forecast_win, avg_mos)\n",
    "        ax = fig.add_subplot(gs[col_idx])\n",
    "        ax = pf.still_add_to_ax(ax, x_forecast, u_forecast_quant, l_forecast_quant, x_scale, nn_scale, nn_forecast, ref, trap_lo_err, trap_up_err, date_list, forecast_win)\n",
    "        ax = pf.formatting_single_plt(ax, row_idx, col_idx, site, rto, ref, nn_forecast, forecast_win)\n",
    "        col_idx += 1\n",
    "\n",
    "\n",
    "#Then add La Margarita and Villodas plots\n",
    "for row_idx in [1,2,3]:\n",
    "    gs = gridspec.GridSpecFromSubplotSpec(2,4, subplot_spec=gs_frame[row_idx], hspace=0.07, height_ratios=[1,3])\n",
    "    site = sites[row_idx]\n",
    "    idxs = dict_idxs[site.lower()]\n",
    "    rto = rtos[row_idx]\n",
    "    avg_mos = avg_mosquitos[row_idx]\n",
    "\n",
    "\n",
    "    for col_idx, idx in zip(range(0,4), idxs):\n",
    "        if col_idx > 1:\n",
    "            airport_flag = True\n",
    "        else:\n",
    "            airport_flag = False\n",
    "        x_forecast, u_forecast_sd, l_forecast_sd, x_scale, nn_scale, nn_forecast, ref, trap_lo_err, trap_up_err, date_list = pf.still_shot(airport_flag, site, idx, scaler_win, forecast_win, avg_mos)\n",
    "        ax_hi = fig.add_subplot(gs[0,col_idx])\n",
    "        ax_lo = fig.add_subplot(gs[1,col_idx])\n",
    "                \n",
    "        ax_hi = pf.still_add_to_ax(ax_hi, x_forecast, u_forecast_sd, l_forecast_sd, x_scale, nn_scale, nn_forecast, ref, trap_lo_err, trap_up_err, date_list, forecast_win)\n",
    "        ax_lo = pf.still_add_to_ax(ax_lo, x_forecast, u_forecast_sd, l_forecast_sd, x_scale, nn_scale, nn_forecast, ref, trap_lo_err, trap_up_err, date_list, forecast_win)\n",
    "        \n",
    "        ax_hi = pf.formatting_hi(ax_hi, col_idx, site, rto, ref, nn_forecast, forecast_win)\n",
    "        ax_lo = pf.formatting_lo(ax_lo, row_idx, col_idx, site, rto, ref, nn_forecast, forecast_win)\n",
    "        \n",
    "        d = 0.5\n",
    "        kwargs = dict(marker=[(-1, -d), (1, d)], markersize=12,\n",
    "              linestyle=\"none\", color='k', mec='k', mew=1, clip_on=False)\n",
    "        ax_hi.plot([0, 1], [0, 0], transform=ax_hi.transAxes, **kwargs)\n",
    "        ax_lo.plot([0, 1], [1, 1], transform=ax_lo.transAxes, **kwargs)\n",
    "    \n",
    "fig.tight_layout()\n",
    "fig.subplots_adjust(wspace=0.12, hspace=0.3)\n",
    "\n",
    "fig.savefig('..{}/still_comparison.png'.format(misc_figures_path), bbox_inches='tight', dpi=300)\n"
   ]
  }
 ],
 "metadata": {
  "kernelspec": {
   "display_name": "Python 3",
   "language": "python",
   "name": "python3"
  },
  "language_info": {
   "codemirror_mode": {
    "name": "ipython",
    "version": 3
   },
   "file_extension": ".py",
   "mimetype": "text/x-python",
   "name": "python",
   "nbconvert_exporter": "python",
   "pygments_lexer": "ipython3",
   "version": "3.10.7"
  },
  "orig_nbformat": 4,
  "vscode": {
   "interpreter": {
    "hash": "8838183fa67f399c954c93f3e2ba6176d25d363535a2fcfea60ba719aaa703a1"
   }
  }
 },
 "nbformat": 4,
 "nbformat_minor": 2
}
