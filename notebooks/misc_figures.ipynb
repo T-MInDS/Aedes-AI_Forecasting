{
 "cells": [
  {
   "attachments": {},
   "cell_type": "markdown",
   "metadata": {},
   "source": [
    "## Miscellaneous figures"
   ]
  },
  {
   "attachments": {},
   "cell_type": "markdown",
   "metadata": {},
   "source": [
    "This notebook contains the code to generate miscellaneous figures.\n",
    "\n",
    "Results are stored in `../output/misc_figures`"
   ]
  },
  {
   "attachments": {},
   "cell_type": "markdown",
   "metadata": {},
   "source": [
    "Start by importing necessary libraries and turning off warnings"
   ]
  },
  {
   "cell_type": "code",
   "execution_count": null,
   "metadata": {},
   "outputs": [],
   "source": [
    "import os, sys, json\n",
    "import pandas as pd\n",
    "import numpy as np\n",
    "import matplotlib.pyplot as plt\n",
    "import matplotlib.dates as mdates\n",
    "from scipy.stats import nbinom as nbinom\n",
    "sys.path.append( os.path.abspath(os.path.join('..')) )\n",
    "import utils.utils as gen_utils\n",
    "\n",
    "import warnings\n",
    "warnings.filterwarnings('ignore')\n",
    "\n",
    "# Opening config file\n",
    "f = open('../fpaths_config.json')\n",
    "paths = json.load(f)\n",
    "\n",
    "raw_data_path = paths['raw_data']\n",
    "smoothed_data_path = paths['smoothed_data']\n",
    "misc_figures_path = paths['misc_figures_path']\n",
    "scaling_rto_fil = paths[\"scaling_rto_fil\"]\n",
    "baseline_scaling_rto_fil = paths[\"baseline_scaling_rto_fil\"]"
   ]
  },
  {
   "cell_type": "markdown",
   "metadata": {},
   "source": [
    "## Plots of forecast generated from local site weather data and weather from San Juan airport"
   ]
  },
  {
   "cell_type": "code",
   "execution_count": null,
   "metadata": {},
   "outputs": [],
   "source": [
    "sites = ['Arboleda', 'La_Margarita', 'Playa', 'Villodas']\n",
    "fig, axs = plt.subplots(2,2, sharex=True, sharey=True, figsize=(12,8))\n",
    "axs = axs.ravel()\n",
    "\n",
    "for i in range(len(sites)):\n",
    "    ax = axs[i]\n",
    "    site = sites[i]\n",
    "    #Raw trap data\n",
    "    site_fil = '{}/{}_site_raw_weekly_predictions.csv'.format(raw_data_path,site)\n",
    "    airport_fil = '{}/{}_airport_raw_weekly_predictions.csv'.format(raw_data_path,site)\n",
    "    site_preds = gen_utils.load_csv(site_fil)    \n",
    "    airport_preds = gen_utils.load_csv(airport_fil)\n",
    "\n",
    "    site_preds.Datetime = pd.to_datetime(site_preds.Datetime)\n",
    "    airport_preds.Datetime = pd.to_datetime(airport_preds.Datetime)\n",
    "\n",
    "    ax.plot(site_preds.Datetime, site_preds['Neural Network'], label='Abundance curve\\n(local weather)', color='tab:blue')\n",
    "    ax.plot(airport_preds.Datetime, airport_preds['Neural Network'], label='Abundance curve\\n(airport weather)', color='tab:orange')\n",
    "    \n",
    "    ax.set_title(site.replace('_', ' '))\n",
    "    if i==0:\n",
    "        legend = ax.legend(loc='lower left', ncol=2, columnspacing=0.7, handlelength=1)\n",
    "    if (i%2)==0:\n",
    "        ax.set_ylabel('Weekly Abundance')\n",
    "plt.subplots_adjust(wspace=0.1, hspace=0.15)\n",
    "fig.savefig('{}/site_vs_airport_preds.png'.format(misc_figures_path), dpi=300, bbox_inches='tight')\n",
    "\n"
   ]
  },
  {
   "cell_type": "markdown",
   "metadata": {},
   "source": [
    "## Airport vs. local weather"
   ]
  },
  {
   "cell_type": "code",
   "execution_count": null,
   "metadata": {},
   "outputs": [],
   "source": [
    "sites = ['Arboleda', 'Playa', 'Villodas', 'La_Margarita']\n",
    "\n",
    "airport_fil = '../data/Weather/san_juan_airport.csv'\n",
    "airport = pd.read_csv(airport_fil)\n",
    "airport['Datetime'] = pd.to_datetime(airport.Datetime)\n",
    "\n",
    "for site in sites:\n",
    "    local_fil = '../data/Weather/{}_daily.pd'.format(site)\n",
    "    local = pd.read_pickle(local_fil)\n",
    "    local['Datetime'] = pd.to_datetime(local.Datetime)\n",
    "    \n",
    "    fig, axs = plt.subplots(3,1, sharex=True, sharey=False, figsize=(6,5))\n",
    "    axs = axs.ravel()\n",
    "\n",
    "    col_plts = ['Avg_Temp', 'Humidity', 'Precip']\n",
    "    names = ['Avg. Temp. ($\\degree C$)', 'Relative\\nHumidity ($\\%$)', 'Precip. (cm)']\n",
    "\n",
    "    for col,name,ax in zip(col_plts, names, axs):\n",
    "        ax.plot(local.Datetime, local[col], label='local', alpha=0.7, color='tab:blue')\n",
    "        ax.plot(airport.Datetime, airport[col], label='Airport', alpha=0.7, color='tab:orange')\n",
    "        ax.set_ylabel(name)\n",
    "    ax.legend(loc='upper left', ncol=2)\n",
    "    fig.tight_layout()\n",
    "    fig.suptitle(site.replace('_', ' '), y=1.02)\n",
    "    fig.savefig('{}/{}_weather_comparison.png'.format(misc_figures_path,site), dpi=300, bbox_inches='tight')\n"
   ]
  },
  {
   "cell_type": "markdown",
   "metadata": {},
   "source": [
    "## Show how $p$ and $n$ change over time for each location"
   ]
  },
  {
   "cell_type": "code",
   "execution_count": null,
   "metadata": {},
   "outputs": [],
   "source": [
    "sites = ['Arboleda', 'Playa', 'La_Margarita', 'Villodas']\n",
    "\n",
    "fig, axs = plt.subplots(4,1, sharex=True, sharey=False, figsize=(8,8))\n",
    "axs = axs.ravel()\n",
    "    \n",
    "fig_idx=0\n",
    "for site,ax in zip(sites,axs):\n",
    "    trap_data = gen_utils.load_csv('{}/{}_site_smoothed_weekly_predictions.csv'.format(smoothed_data_path,site))\n",
    "    trap_data.Datetime = pd.to_datetime(trap_data.Datetime)\n",
    "    \n",
    "    monthly = trap_data.resample('M', on='Datetime').mean()\n",
    "    monthly['neg_bin_p'] = np.minimum(np.divide(monthly.Ref, monthly.Ref_sd**2),1)\n",
    "    monthly['neg_bin_n'] = np.maximum(np.divide(np.multiply(monthly.neg_bin_p,monthly.Ref), 1-monthly.neg_bin_p),0)\n",
    "\n",
    "    if ((site=='La_Margarita') or (site=='Villodas')):\n",
    "        mainx = ax.plot(monthly.index, monthly.neg_bin_p, color='tab:blue', label='$p$')\n",
    "        twinx = ax.twinx()\n",
    "        twinx.set_yscale('log')\n",
    "        secondx = twinx.plot(monthly.index, monthly.neg_bin_n, color='tab:orange', label='$n$')\n",
    "        locator = mdates.MonthLocator()\n",
    "        ax.xaxis.set_minor_locator(locator)\n",
    "        ax.set_ylabel('Average\\nmonthly $p$')\n",
    "        twinx.set_ylabel('Average\\nmontly $n$')\n",
    "    else:\n",
    "        mainx = ax.plot(monthly.index, monthly.neg_bin_p, color='tab:blue', label='$p$')\n",
    "        twinx = ax.twinx()\n",
    "        secondx = twinx.plot(monthly.index, monthly.neg_bin_n, color='tab:orange', label='$n$')\n",
    "        locator = mdates.MonthLocator()\n",
    "        ax.xaxis.set_minor_locator(locator)\n",
    "        ax.set_ylabel('Average\\nmonthly $p$')\n",
    "        twinx.set_ylabel('Average\\nmontly $n$')\n",
    "    \n",
    "    if site=='Arboleda':\n",
    "        lines = mainx + secondx\n",
    "        labs = [l.get_label() for l in lines]\n",
    "        ax.legend(lines, labs, loc='upper left', ncol=2)\n",
    "\n",
    "\n",
    "    ax.set_title(site.replace('_',' '))\n",
    "ax.set_xlabel(r'$t_0$')\n",
    "fig.tight_layout()\n",
    "fig.savefig('{}/neg_bin_p_n.png'.format(misc_figures_path), dpi=300, bbox_inches='tight')\n",
    "plt.show()"
   ]
  },
  {
   "cell_type": "markdown",
   "metadata": {},
   "source": [
    "## Scaling ratio plots"
   ]
  },
  {
   "cell_type": "code",
   "execution_count": null,
   "metadata": {},
   "outputs": [],
   "source": [
    "sites = ['Arboleda', 'Playa', 'La_Margarita', 'Villodas']\n",
    "avg_mosquitos = [8.718, 12.786, 1.488, 1.624]\n",
    "label_scalings = [0.35, 0.43, 0.25, 0.34]\n",
    "\n",
    "\n",
    "rtos = gen_utils.load_csv(scaling_rto_fil)\n",
    "rtos = rtos[rtos.Smoothing==True]\n",
    "rtos.t_0 = pd.to_datetime(rtos.t_0)\n",
    "\n",
    "baseline_rtos = gen_utils.load_csv(baseline_scaling_rto_fil)\n",
    "baseline_rtos = baseline_rtos[baseline_rtos.Smoothing==True]\n",
    "baseline_rtos.t_0 = pd.to_datetime(baseline_rtos.t_0)\n",
    "\n",
    "fig, axs = plt.subplots(4,2, sharex=True, sharey=True, figsize=(8,7))\n",
    "    \n",
    "row_idx=0\n",
    "for site,avg_mos,label_scaling,ax in zip(sites,avg_mosquitos,label_scalings,axs):\n",
    "    site_weather = rtos.copy(deep=True)\n",
    "    site_weather = site_weather[((site_weather.Site.str.contains(site)) & (site_weather.Weather.str.contains('site')))]\n",
    "    site_baseline = baseline_rtos.copy(deep=True)\n",
    "    site_baseline = site_baseline[((site_baseline.Site.str.contains(site)) & (site_baseline.Weather.str.contains('site')))]\n",
    "\n",
    "    axs[row_idx,0].plot(site_weather.t_0, np.divide(site_weather.Scaler_rto, avg_mos), label='Forecasts', color='tab:blue')\n",
    "    axs[row_idx,0].plot(site_baseline.t_0, np.divide(site_baseline.Scaler_rto, avg_mos), label='Baselines', color='tab:orange')\n",
    "    axs[row_idx,0].set_ylabel('Scaled rto'+r'$_{t_0}$')#\\overline{NN}$')\n",
    "\n",
    "    airport_weather = rtos.copy(deep=True)\n",
    "    airport_weather = airport_weather[((airport_weather.Site.str.contains(site)) & (airport_weather.Weather.str.contains('airport')))]\n",
    "    airport_baseline = baseline_rtos.copy(deep=True)\n",
    "    airport_baseline = airport_baseline[((airport_baseline.Site.str.contains(site)) & (airport_baseline.Weather.str.contains('airport')))]\n",
    "\n",
    "    axs[row_idx,1].plot(airport_weather.t_0, np.divide(airport_weather.Scaler_rto, avg_mos), label='Forecasts', color='tab:blue')\n",
    "    axs[row_idx,1].plot(airport_baseline.t_0, np.divide(airport_baseline.Scaler_rto, avg_mos), label='Baselines', color='tab:orange')\n",
    "    \n",
    "    if row_idx==0:\n",
    "        axs[row_idx,0].set_title('Local weather', size='medium')\n",
    "        axs[row_idx,1].set_title('Airport weather', size='medium')\n",
    "    if site=='Arboleda':\n",
    "        axs[row_idx,1].legend(loc='upper right')\n",
    "    \n",
    "    axs[row_idx,0].text(axs[row_idx,0].get_xlim()[0]-950, label_scaling*axs[row_idx,0].get_ylim()[-1], site.replace('_',' '), bbox=dict(boxstyle=\"square\", fc=\"white\"), rotation=90, size='large')\n",
    "            \n",
    "    row_idx+=1\n",
    "axs[row_idx-1,0].set_xlabel(r'$t_0$')\n",
    "axs[row_idx-1,1].set_xlabel(r'$t_0$')\n",
    "fig.tight_layout()\n",
    "fig.savefig('{}/scaling_rtos.png'.format(misc_figures_path), dpi=300, bbox_inches='tight')\n",
    "plt.show()"
   ]
  }
 ],
 "metadata": {
  "kernelspec": {
   "display_name": "Python 3",
   "language": "python",
   "name": "python3"
  },
  "language_info": {
   "codemirror_mode": {
    "name": "ipython",
    "version": 3
   },
   "file_extension": ".py",
   "mimetype": "text/x-python",
   "name": "python",
   "nbconvert_exporter": "python",
   "pygments_lexer": "ipython3",
   "version": "3.10.7"
  },
  "orig_nbformat": 4,
  "vscode": {
   "interpreter": {
    "hash": "8838183fa67f399c954c93f3e2ba6176d25d363535a2fcfea60ba719aaa703a1"
   }
  }
 },
 "nbformat": 4,
 "nbformat_minor": 2
}
